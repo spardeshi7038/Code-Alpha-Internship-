{
 "cells": [
  {
   "cell_type": "markdown",
   "id": "1cbe1974",
   "metadata": {},
   "source": [
    "# Basic Chatbot\n",
    "Create a text-based chatbot that can have conversations with users.you can use natural language processing libraries like NLTK or spaCy to make your cahtbot more conversational."
   ]
  },
  {
   "cell_type": "code",
   "execution_count": null,
   "id": "bec8e7e3",
   "metadata": {},
   "outputs": [],
   "source": [
    "import nltk\n",
    "from nltk.chat.util import Chat, reflections\n",
    "\n",
    "nltk.download('punkt')\n",
    "\n",
    "# Define a set of patterns and responses for the chatbot\n",
    "patterns = [\n",
    "    (r'hi|hello|hey', ['Hi there!', 'Hello!', 'Hey!']),\n",
    "    (r'Whats up', ['Nothing How can i help you']),\n",
    "    (r'how are you', ['I am good, thank you!', 'I am doing well, how about you?']),\n",
    "    (r'(.*) your name', ['I am a chatbot created with NLTK.', 'I am your friendly chatbot.']),\n",
    "    (r'bye|goodbye', ['Goodbye!', 'See you later!', 'Bye!']),\n",
    "    (r'(.*)', ['I am not sure how to respond to that.']),\n",
    "]\n",
    "\n",
    "# Create the chatbot\n",
    "chatbot = Chat(patterns, reflections)\n",
    "\n",
    "# Function to start and run the chatbot\n",
    "def run_chatbot():\n",
    "    print(\"Chatbot: Hi! I'm a simple chatbot. You can type 'bye' to exit the chat.\")\n",
    "    while True:\n",
    "        user_input = input(\"You: \")\n",
    "        if user_input.lower() == 'bye':\n",
    "            print(\"Chatbot: Goodbye!\")\n",
    "            break\n",
    "        else:\n",
    "            response = chatbot.respond(user_input)\n",
    "            print(\"Chatbot:\", response)\n",
    "\n",
    "if __name__ == \"__main__\":\n",
    "    run_chatbot()\n"
   ]
  },
  {
   "cell_type": "code",
   "execution_count": null,
   "id": "fa3e2b45",
   "metadata": {},
   "outputs": [],
   "source": [
    "pip install nltk"
   ]
  },
  {
   "cell_type": "code",
   "execution_count": null,
   "id": "dbc620d8",
   "metadata": {},
   "outputs": [],
   "source": [
    "import nltk\n",
    "from nltk.chat.util import Chat, reflections\n",
    "\n",
    "# Define patterns and responses for the chatbot\n",
    "pairs = [\n",
    "    [\n",
    "        r\"my name is (.*)\",\n",
    "        [\"Hello %1! How can I help you today?\",]\n",
    "    ],\n",
    "    [\n",
    "        r\"what is your name?\",\n",
    "        [\"I am a chatbot. You can call me ChatGPT.\",]\n",
    "    ],\n",
    "    [\n",
    "        r\"how are you?\",\n",
    "        [\"I'm good, thank you! How about you?\",]\n",
    "    ],\n",
    "    [\n",
    "        r\"(.*) (good|fine|well)\",\n",
    "        [\"That's great to hear!\", \"Awesome!\",]\n",
    "    ],\n",
    "    [\n",
    "        r\"(.*) help (.*)\",\n",
    "        [\"Sure, I can help. What do you need assistance with?\",]\n",
    "    ],\n",
    "    [\n",
    "        r\"bye\",\n",
    "        [\"Goodbye! Take care.\", \"See you later.\",]\n",
    "    ],\n",
    "    [\n",
    "        r\"(.*)\",\n",
    "        [\"I'm sorry, I didn't quite understand. Can you please rephrase?\",]\n",
    "    ]\n",
    "]\n",
    "\n",
    "# Create a chatbot instance\n",
    "chatbot = Chat(pairs, reflections)\n",
    "\n",
    "# Start the conversation\n",
    "print(\"Hi! I'm ChatGPT, your friendly chatbot. Type 'bye' to exit.\")\n",
    "while True:\n",
    "    user_input = input(\"You: \")\n",
    "    if user_input.lower() == 'bye':\n",
    "        print(\"ChatGPT: Goodbye! Take care.\")\n",
    "        break\n",
    "    else:\n",
    "        response = chatbot.respond(user_input)\n",
    "        print(\"ChatGPT:\", response)\n"
   ]
  }
 ],
 "metadata": {
  "kernelspec": {
   "display_name": "Python 3 (ipykernel)",
   "language": "python",
   "name": "python3"
  },
  "language_info": {
   "codemirror_mode": {
    "name": "ipython",
    "version": 3
   },
   "file_extension": ".py",
   "mimetype": "text/x-python",
   "name": "python",
   "nbconvert_exporter": "python",
   "pygments_lexer": "ipython3",
   "version": "3.11.5"
  }
 },
 "nbformat": 4,
 "nbformat_minor": 5
}
