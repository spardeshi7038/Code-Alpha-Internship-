{
 "cells": [
  {
   "cell_type": "markdown",
   "id": "e831cd11",
   "metadata": {},
   "source": [
    "# Hangman Game\n",
    "Design a text-based Hangman game. The program\n",
    "selects a random word, and the player guesses one\n",
    "letter at a time to uncover the word. You can set a\n",
    "limit on the number of incorrect guesses allowed.\n"
   ]
  },
  {
   "cell_type": "code",
   "execution_count": 1,
   "id": "8fb81e8c",
   "metadata": {},
   "outputs": [
    {
     "name": "stdout",
     "output_type": "stream",
     "text": [
      "Welcome to Hangman!\n",
      "______\n",
      "Guess a letter: c\n",
      "Good guess!\n",
      "c_____\n",
      "Guess a letter: k\n",
      "Incorrect guess. Attempts left: 5\n",
      "c_____\n",
      "Guess a letter: o\n",
      "Good guess!\n",
      "co____\n",
      "Guess a letter: f\n",
      "Incorrect guess. Attempts left: 4\n",
      "co____\n",
      "Guess a letter: d\n",
      "Good guess!\n",
      "cod___\n",
      "Guess a letter: e\n",
      "Incorrect guess. Attempts left: 3\n",
      "cod___\n",
      "Guess a letter: i\n",
      "Good guess!\n",
      "codi__\n",
      "Guess a letter: n\n",
      "Good guess!\n",
      "codin_\n",
      "Guess a letter: g\n",
      "Good guess!\n",
      "coding\n",
      "Congratulations! You've guessed the word: coding\n"
     ]
    }
   ],
   "source": [
    "import random\n",
    "\n",
    "def choose_word():\n",
    "    words = [\"python\", \"hangman\", \"programming\", \"challenge\", \"coding\", \"computer\"]\n",
    "    return random.choice(words)\n",
    "\n",
    "def display_word(word, guessed_letters):\n",
    "    display = \"\"\n",
    "    for letter in word:\n",
    "        if letter in guessed_letters:\n",
    "            display += letter\n",
    "        else:\n",
    "            display += \"_\"\n",
    "    return display\n",
    "\n",
    "def hangman():\n",
    "    max_attempts = 6\n",
    "    guessed_letters = []\n",
    "    word_to_guess = choose_word()\n",
    "    attempts = 0\n",
    "\n",
    "    print(\"Welcome to Hangman!\")\n",
    "    print(display_word(word_to_guess, guessed_letters))\n",
    "\n",
    "    while True:\n",
    "        guess = input(\"Guess a letter: \").lower()\n",
    "\n",
    "        if guess.isalpha() and len(guess) == 1:\n",
    "            if guess in guessed_letters:\n",
    "                print(\"You've already guessed that letter. Try again.\")\n",
    "            elif guess in word_to_guess:\n",
    "                guessed_letters.append(guess)\n",
    "                print(\"Good guess!\")\n",
    "            else:\n",
    "                attempts += 1\n",
    "                print(\"Incorrect guess. Attempts left:\", max_attempts - attempts)\n",
    "        else:\n",
    "            print(\"Please enter a valid single letter.\")\n",
    "\n",
    "        print(display_word(word_to_guess, guessed_letters))\n",
    "\n",
    "        if set(guessed_letters) == set(word_to_guess):\n",
    "            print(\"Congratulations! You've guessed the word:\", word_to_guess)\n",
    "            break\n",
    "\n",
    "        if attempts == max_attempts:\n",
    "            print(\"Sorry, you've run out of attempts. The correct word was:\", word_to_guess)\n",
    "            break\n",
    "\n",
    "if __name__ == \"__main__\":\n",
    "    hangman()"
   ]
  }
 ],
 "metadata": {
  "kernelspec": {
   "display_name": "Python 3 (ipykernel)",
   "language": "python",
   "name": "python3"
  },
  "language_info": {
   "codemirror_mode": {
    "name": "ipython",
    "version": 3
   },
   "file_extension": ".py",
   "mimetype": "text/x-python",
   "name": "python",
   "nbconvert_exporter": "python",
   "pygments_lexer": "ipython3",
   "version": "3.11.5"
  }
 },
 "nbformat": 4,
 "nbformat_minor": 5
}
