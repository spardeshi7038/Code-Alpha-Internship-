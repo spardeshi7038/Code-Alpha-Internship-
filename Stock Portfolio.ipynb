{
 "cells": [
  {
   "cell_type": "markdown",
   "id": "ccdf06a8",
   "metadata": {},
   "source": [
    "# Stock Portfolio Tracker\n",
    "create a stack portfolio tracking tool that allows users to add,remove,and track the performance of their stock investments.utilize financial APIs for real-time stock data."
   ]
  },
  {
   "cell_type": "code",
   "execution_count": 1,
   "id": "e13e579d",
   "metadata": {},
   "outputs": [
    {
     "name": "stdout",
     "output_type": "stream",
     "text": [
      "\n",
      "Stock Portfolio:\n",
      "AAPL: 3 shares - Current Price: $181.42\n",
      "GOOGL: 3 shares - Current Price: $136.38\n",
      "Total Portfolio Value: $953.40\n"
     ]
    }
   ],
   "source": [
    "import requests\n",
    "\n",
    "class StockPortfolio:\n",
    "    def __init__(self, api_key):\n",
    "        self.api_key = api_key\n",
    "        self.portfolio = {}\n",
    "\n",
    "    def add_stock(self, symbol, shares):\n",
    "        if symbol in self.portfolio:\n",
    "            self.portfolio[symbol][\"Shares\"] += shares\n",
    "        else:\n",
    "            self.portfolio[symbol] = {\"Shares\": shares, \"Price\": self.get_stock_price(symbol)}\n",
    "\n",
    "    def remove_stock(self, symbol, shares):\n",
    "        if symbol in self.portfolio:\n",
    "            if shares >= self.portfolio[symbol][\"Shares\"]:\n",
    "                del self.portfolio[symbol]\n",
    "            else:\n",
    "                self.portfolio[symbol][\"Shares\"] -= shares\n",
    "\n",
    "    def get_stock_price(self, symbol):\n",
    "        url = f\"https://www.alphavantage.co/query?function=GLOBAL_QUOTE&symbol={symbol}&apikey={self.api_key}\"\n",
    "        response = requests.get(url)\n",
    "        data = response.json()\n",
    "        return float(data[\"Global Quote\"][\"05. price\"])\n",
    "\n",
    "    def get_portfolio_value(self):\n",
    "        total_value = 0\n",
    "        for symbol, details in self.portfolio.items():\n",
    "            total_value += details[\"Shares\"] * details[\"Price\"]\n",
    "        return total_value\n",
    "\n",
    "    def print_portfolio(self):\n",
    "        print(\"\\nStock Portfolio:\")\n",
    "        for symbol, details in self.portfolio.items():\n",
    "            print(f\"{symbol}: {details['Shares']} shares - Current Price: ${details['Price']:.2f}\")\n",
    "        print(f\"Total Portfolio Value: ${self.get_portfolio_value():.2f}\")\n",
    "\n",
    "\n",
    "if __name__ == \"__main__\":\n",
    "    alpha_vantage_api_key = 'YOUR_ALPHA_VANTAGE_API_KEY'\n",
    "    portfolio_tracker = StockPortfolio(api_key=alpha_vantage_api_key)\n",
    "\n",
    "    portfolio_tracker.add_stock(\"AAPL\", 5)\n",
    "    portfolio_tracker.add_stock(\"GOOGL\", 3)\n",
    "    portfolio_tracker.remove_stock(\"AAPL\", 2)\n",
    "    portfolio_tracker.print_portfolio()\n"
   ]
  },
  {
   "cell_type": "code",
   "execution_count": null,
   "id": "876e5707",
   "metadata": {},
   "outputs": [],
   "source": []
  }
 ],
 "metadata": {
  "kernelspec": {
   "display_name": "Python 3 (ipykernel)",
   "language": "python",
   "name": "python3"
  },
  "language_info": {
   "codemirror_mode": {
    "name": "ipython",
    "version": 3
   },
   "file_extension": ".py",
   "mimetype": "text/x-python",
   "name": "python",
   "nbconvert_exporter": "python",
   "pygments_lexer": "ipython3",
   "version": "3.11.5"
  }
 },
 "nbformat": 4,
 "nbformat_minor": 5
}
